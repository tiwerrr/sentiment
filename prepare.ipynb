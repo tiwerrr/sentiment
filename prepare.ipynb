{
 "cells": [
  {
   "cell_type": "code",
   "execution_count": null,
   "metadata": {},
   "outputs": [
    {
     "name": "stdout",
     "output_type": "stream",
     "text": [
      "txt文件已复制到: txt_data\n",
      "jpg文件已复制到: jpg_data\n"
     ]
    }
   ],
   "source": [
    "import os\n",
    "import shutil\n",
    "\n",
    "# 分割原始文件，将txt文件与jpg文件分开\n",
    "source_folder = \"data\"\n",
    "txt_folder = \"txt_data\"\n",
    "jpg_folder = \"jpg_data\"\n",
    "\n",
    "# 创建目标文件夹\n",
    "os.makedirs(txt_folder, exist_ok=True)\n",
    "os.makedirs(jpg_folder, exist_ok=True)\n",
    "\n",
    "# 获取源文件夹下所有文件\n",
    "file_list = os.listdir(source_folder)\n",
    "\n",
    "# 遍历文件列表，将txt文件和jpg文件分别复制到对应的文件夹\n",
    "for file_name in file_list:\n",
    "    if file_name.endswith(\".txt\"):\n",
    "        shutil.copy(os.path.join(source_folder, file_name), os.path.join(txt_folder, file_name))\n",
    "    elif file_name.endswith(\".jpg\"):\n",
    "        shutil.copy(os.path.join(source_folder, file_name), os.path.join(jpg_folder, file_name))"
   ]
  },
  {
   "cell_type": "code",
   "execution_count": null,
   "metadata": {},
   "outputs": [
    {
     "name": "stdout",
     "output_type": "stream",
     "text": [
      "{'guid': 26, 'label': 1, 'text': 0, 'photo': 'data/26.jpg'}\n",
      "3200\n",
      "800\n"
     ]
    }
   ],
   "source": [
    "# 读入并处理训练数据\n",
    "import os\n",
    "from sklearn.model_selection import train_test_split\n",
    "\n",
    "\n",
    "# 读取有标注的情感预测数据\n",
    "traindata = open('train.txt').readlines()[1:]\n",
    "txt_label = {}\n",
    "for content in traindata:\n",
    "    temp = content.split(',')\n",
    "    # 将三种标签转化为0，1，2\n",
    "    if (temp[1] == \"positive\\n\"):\n",
    "        txt_label[int(temp[0])] = 0\n",
    "    if (temp[1] == \"neutral\\n\"):\n",
    "        txt_label[int(temp[0])] = 1\n",
    "    if (temp[1] == \"negative\\n\"):\n",
    "        txt_label[int(temp[0])] = 2\n",
    "\n",
    "# 按1、2、3……的顺序重新排序\n",
    "# txt_label = sorted(txt_label.items(), key=lambda v:v[0])\n",
    "# print(txt_label)\n",
    "\n",
    "# 建立dataset，以期存入每个guid所对应的情感标签，也便于后续存入文本内容和图片内容\n",
    "dataset = []\n",
    "for key,value in txt_label.items():\n",
    "    dataset.append({\n",
    "        'guid': key,\n",
    "        'label': value,\n",
    "        'text' : 0,\n",
    "        'photo' : 'data/' + str(key) + '.jpg',    # 直接手动添加图片路径\n",
    "    })\n",
    "print(dataset[1])\n",
    "\n",
    "# 读取文本数据\n",
    "txt_data = {}\n",
    "#path_to_folder = 'txt_data'\n",
    "for file_name in os.listdir('txt_data/'):\n",
    "    with open(os.path.join('txt_data/', file_name), 'r', encoding='gb18030') as file:\n",
    "        temp = file.readlines()\n",
    "        temp_label = int(file_name.split('.')[0])\n",
    "        # 将文本数据和前面的有标注的情感预测数据一一对应起来\n",
    "        for i in range(len(dataset)):\n",
    "            if temp_label == dataset[i]['guid']:\n",
    "                dataset[i]['text'] = temp\n",
    "\n",
    "#print(dataset[1])\n",
    "\n",
    "# 划分训练集和验证集\n",
    "train_data, val_data = train_test_split(dataset, test_size=0.2, random_state=42)\n",
    "print(len(train_data))\n",
    "print(len(val_data))\n"
   ]
  },
  {
   "cell_type": "code",
   "execution_count": null,
   "metadata": {},
   "outputs": [
    {
     "name": "stdout",
     "output_type": "stream",
     "text": [
      "{'guid': 1576, 'label': 3, 'text': 0, 'photo': 'data/1576.jpg'}\n",
      "511\n"
     ]
    }
   ],
   "source": [
    "# 读入待预测的数据\n",
    "# 读取有标注的情感预测数据\n",
    "testdata = open('test_without_label.txt').readlines()[1:]\n",
    "txt_label2 = {}\n",
    "for content in testdata:\n",
    "    temp = content.split(',')\n",
    "    # 用3代表null\n",
    "    txt_label2[int(temp[0])] = 3\n",
    "\n",
    "# 建立dataset，以期存入每个guid所对应的情感标签，也便于后续存入文本内容和图片内容\n",
    "test_dataset = []\n",
    "for key,value in txt_label2.items():\n",
    "    test_dataset.append({\n",
    "        'guid': key,\n",
    "        'label': value,\n",
    "        'text' : 0,\n",
    "        'photo' : 'data/' + str(key) + '.jpg',    # 直接手动添加图片路径\n",
    "    })\n",
    "print(test_dataset[1])\n",
    "\n",
    "# 读取文本数据\n",
    "txt_data = {}\n",
    "#path_to_folder = 'txt_data'\n",
    "for file_name in os.listdir('txt_data/'):\n",
    "    with open(os.path.join('txt_data/', file_name), 'r', encoding='gb18030') as file:\n",
    "        temp = file.readlines()\n",
    "        temp_label = int(file_name.split('.')[0])\n",
    "        # 将文本数据和前面的有标注的情感预测数据一一对应起来\n",
    "        for i in range(len(test_dataset)):\n",
    "            if temp_label == test_dataset[i]['guid']:\n",
    "                test_dataset[i]['text'] = temp\n",
    "'''\n",
    "# 提取图片信息\n",
    "for i in range(len(test_dataset)):\n",
    "    photo_path = test_dataset[i]['photo']\n",
    "    photo_info = Image.open(photo_path)\n",
    "    photo_info = transform(photo_info)\n",
    "    test_dataset[i]['photo'] = photo_info\n",
    "'''\n",
    "\n",
    "print(len(test_dataset))"
   ]
  },
  {
   "cell_type": "code",
   "execution_count": null,
   "metadata": {},
   "outputs": [],
   "source": [
    "# 将训练集、验证集、测试集写入json文件中，便于后续调用\n",
    "import json\n",
    "        \n",
    "with open(\"train.json\", \"w\", encoding=\"utf-8\") as f:\n",
    "    json.dump(train_data, f)\n",
    "with open(\"val.json\", \"w\", encoding=\"utf-8\") as f:\n",
    "    json.dump(val_data, f)\n",
    "with open(\"test.json\", \"w\", encoding=\"utf-8\") as f:\n",
    "    json.dump(test_dataset, f)"
   ]
  }
 ],
 "metadata": {
  "kernelspec": {
   "display_name": "base",
   "language": "python",
   "name": "python3"
  },
  "language_info": {
   "codemirror_mode": {
    "name": "ipython",
    "version": 3
   },
   "file_extension": ".py",
   "mimetype": "text/x-python",
   "name": "python",
   "nbconvert_exporter": "python",
   "pygments_lexer": "ipython3",
   "version": "3.8.8"
  },
  "orig_nbformat": 4
 },
 "nbformat": 4,
 "nbformat_minor": 2
}
